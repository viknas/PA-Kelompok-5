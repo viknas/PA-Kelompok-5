{
  "cells": [
    {
      "cell_type": "markdown",
      "source": [
        "## **Download Dataset**\n",
        "\n",
        "Dataset bisa di download [disini](https://drive.google.com/file/d/1x0NiGnZap4MMvyPsqMnVP7xKoInzV1IE/view?usp=share_link)\n",
        "\n",
        "Setelah mengunduh dataset yang dibutuhkan dataset akan dimasukkan secara manual ke dalam google collab untuk selanjutnya diproses ke dalam model rekomendasi sistem."
      ],
      "metadata": {
        "id": "nwnG4bJnbqyw"
      }
    },
    {
      "cell_type": "markdown",
      "source": [
        "## **Import Library**\n",
        "Import library digunakan untuk menganalisa dataset "
      ],
      "metadata": {
        "id": "cwkjzvhzbI_P"
      }
    },
    {
      "cell_type": "code",
      "execution_count": null,
      "metadata": {
        "id": "CK56UxRBrSZd"
      },
      "outputs": [],
      "source": [
        "import re\n",
        "import random\n",
        "import nltk\n",
        "import string\n",
        "import pandas as pd\n",
        "import numpy as np\n",
        "from sklearn.model_selection import train_test_split\n",
        "from sklearn.linear_model import LinearRegression\n",
        "from sklearn.metrics.pairwise import cosine_similarity\n",
        "from sklearn.feature_extraction.text import TfidfVectorizer\n",
        "from nltk.corpus import stopwords"
      ]
    },
    {
      "cell_type": "markdown",
      "source": [
        "## **Download NLTK Package**"
      ],
      "metadata": {
        "id": "cdx3Apz5byy8"
      }
    },
    {
      "cell_type": "code",
      "source": [
        "nltk.download('stopwords')"
      ],
      "metadata": {
        "colab": {
          "base_uri": "https://localhost:8080/"
        },
        "id": "IGTjhqA_bvLl",
        "outputId": "751c4166-e4d9-4788-a7b6-8db9d8a1dec0"
      },
      "execution_count": null,
      "outputs": [
        {
          "output_type": "stream",
          "name": "stderr",
          "text": [
            "[nltk_data] Downloading package stopwords to /root/nltk_data...\n",
            "[nltk_data]   Package stopwords is already up-to-date!\n"
          ]
        },
        {
          "output_type": "execute_result",
          "data": {
            "text/plain": [
              "True"
            ]
          },
          "metadata": {},
          "execution_count": 35
        }
      ]
    },
    {
      "cell_type": "code",
      "execution_count": null,
      "metadata": {
        "colab": {
          "base_uri": "https://localhost:8080/",
          "height": 687
        },
        "id": "XZ4tucPi2eBB",
        "outputId": "2883eecb-ad26-43cf-d62d-5a9e1559b1de"
      },
      "outputs": [
        {
          "output_type": "execute_result",
          "data": {
            "text/plain": [
              "                                            nama vote_average  vote_count  \\\n",
              "0                                Candi Borobudur          4,7       81922   \n",
              "1                                Candi Prambanan          4,7       71751   \n",
              "2                                  Tebing Breksi          4,4       51431   \n",
              "3                               Gembira Loka Zoo          4,5       36337   \n",
              "4  The Palace of Yogyakarta (Keraton Yogyakarta)          4,6       30091   \n",
              "\n",
              "                 type htm_weekday htm_weekend      latitude  \\\n",
              "0  Budaya dan Sejarah       50000       50000  -7,607086854   \n",
              "1  Budaya dan Sejarah       50000       50000  -7,751834561   \n",
              "2                Alam       10000       10000  -7,781476547   \n",
              "3              Buatan       20000       25000    -7,8062344   \n",
              "4  Budaya dan Sejarah        8000        8000    -7,8052845   \n",
              "\n",
              "                                             Address    longitude  \\\n",
              "0    Jl. Badrawati, Borobudur, Magelang, Jawa Tengah  110,2036226   \n",
              "1  Jl. Raya Solo – Yogyakarta No.16, Kranggan, Bo...  110,4915318   \n",
              "2  Desa Sambirejo, Kecamatan Prambanan, Kabupaten...  110,5045757   \n",
              "3  Jl. Kebun Raya No. 2, Rejowinangun, Kotagede, ...  110,3967977   \n",
              "4  Jl. Rotowijayan Blok No. 1, Panembahan, Kraton...  110,3642031   \n",
              "\n",
              "                                         description  \n",
              "0  Candi yang pernah masuk sebagai salah satu dar...  \n",
              "1  Candi Prambanan adalah kompleks candi Hindu te...  \n",
              "2  Tebing Breksi merupakan tempat wisata yang ber...  \n",
              "3  Gambira Loka adalah kebun binatang yang berada...  \n",
              "4  Kompleks keraton merupakan museum yang menyimp...  "
            ],
            "text/html": [
              "\n",
              "  <div id=\"df-cb532e05-6b3e-463a-be98-05d747ad6b2f\">\n",
              "    <div class=\"colab-df-container\">\n",
              "      <div>\n",
              "<style scoped>\n",
              "    .dataframe tbody tr th:only-of-type {\n",
              "        vertical-align: middle;\n",
              "    }\n",
              "\n",
              "    .dataframe tbody tr th {\n",
              "        vertical-align: top;\n",
              "    }\n",
              "\n",
              "    .dataframe thead th {\n",
              "        text-align: right;\n",
              "    }\n",
              "</style>\n",
              "<table border=\"1\" class=\"dataframe\">\n",
              "  <thead>\n",
              "    <tr style=\"text-align: right;\">\n",
              "      <th></th>\n",
              "      <th>nama</th>\n",
              "      <th>vote_average</th>\n",
              "      <th>vote_count</th>\n",
              "      <th>type</th>\n",
              "      <th>htm_weekday</th>\n",
              "      <th>htm_weekend</th>\n",
              "      <th>latitude</th>\n",
              "      <th>Address</th>\n",
              "      <th>longitude</th>\n",
              "      <th>description</th>\n",
              "    </tr>\n",
              "  </thead>\n",
              "  <tbody>\n",
              "    <tr>\n",
              "      <th>0</th>\n",
              "      <td>Candi Borobudur</td>\n",
              "      <td>4,7</td>\n",
              "      <td>81922</td>\n",
              "      <td>Budaya dan Sejarah</td>\n",
              "      <td>50000</td>\n",
              "      <td>50000</td>\n",
              "      <td>-7,607086854</td>\n",
              "      <td>Jl. Badrawati, Borobudur, Magelang, Jawa Tengah</td>\n",
              "      <td>110,2036226</td>\n",
              "      <td>Candi yang pernah masuk sebagai salah satu dar...</td>\n",
              "    </tr>\n",
              "    <tr>\n",
              "      <th>1</th>\n",
              "      <td>Candi Prambanan</td>\n",
              "      <td>4,7</td>\n",
              "      <td>71751</td>\n",
              "      <td>Budaya dan Sejarah</td>\n",
              "      <td>50000</td>\n",
              "      <td>50000</td>\n",
              "      <td>-7,751834561</td>\n",
              "      <td>Jl. Raya Solo – Yogyakarta No.16, Kranggan, Bo...</td>\n",
              "      <td>110,4915318</td>\n",
              "      <td>Candi Prambanan adalah kompleks candi Hindu te...</td>\n",
              "    </tr>\n",
              "    <tr>\n",
              "      <th>2</th>\n",
              "      <td>Tebing Breksi</td>\n",
              "      <td>4,4</td>\n",
              "      <td>51431</td>\n",
              "      <td>Alam</td>\n",
              "      <td>10000</td>\n",
              "      <td>10000</td>\n",
              "      <td>-7,781476547</td>\n",
              "      <td>Desa Sambirejo, Kecamatan Prambanan, Kabupaten...</td>\n",
              "      <td>110,5045757</td>\n",
              "      <td>Tebing Breksi merupakan tempat wisata yang ber...</td>\n",
              "    </tr>\n",
              "    <tr>\n",
              "      <th>3</th>\n",
              "      <td>Gembira Loka Zoo</td>\n",
              "      <td>4,5</td>\n",
              "      <td>36337</td>\n",
              "      <td>Buatan</td>\n",
              "      <td>20000</td>\n",
              "      <td>25000</td>\n",
              "      <td>-7,8062344</td>\n",
              "      <td>Jl. Kebun Raya No. 2, Rejowinangun, Kotagede, ...</td>\n",
              "      <td>110,3967977</td>\n",
              "      <td>Gambira Loka adalah kebun binatang yang berada...</td>\n",
              "    </tr>\n",
              "    <tr>\n",
              "      <th>4</th>\n",
              "      <td>The Palace of Yogyakarta (Keraton Yogyakarta)</td>\n",
              "      <td>4,6</td>\n",
              "      <td>30091</td>\n",
              "      <td>Budaya dan Sejarah</td>\n",
              "      <td>8000</td>\n",
              "      <td>8000</td>\n",
              "      <td>-7,8052845</td>\n",
              "      <td>Jl. Rotowijayan Blok No. 1, Panembahan, Kraton...</td>\n",
              "      <td>110,3642031</td>\n",
              "      <td>Kompleks keraton merupakan museum yang menyimp...</td>\n",
              "    </tr>\n",
              "  </tbody>\n",
              "</table>\n",
              "</div>\n",
              "      <button class=\"colab-df-convert\" onclick=\"convertToInteractive('df-cb532e05-6b3e-463a-be98-05d747ad6b2f')\"\n",
              "              title=\"Convert this dataframe to an interactive table.\"\n",
              "              style=\"display:none;\">\n",
              "        \n",
              "  <svg xmlns=\"http://www.w3.org/2000/svg\" height=\"24px\"viewBox=\"0 0 24 24\"\n",
              "       width=\"24px\">\n",
              "    <path d=\"M0 0h24v24H0V0z\" fill=\"none\"/>\n",
              "    <path d=\"M18.56 5.44l.94 2.06.94-2.06 2.06-.94-2.06-.94-.94-2.06-.94 2.06-2.06.94zm-11 1L8.5 8.5l.94-2.06 2.06-.94-2.06-.94L8.5 2.5l-.94 2.06-2.06.94zm10 10l.94 2.06.94-2.06 2.06-.94-2.06-.94-.94-2.06-.94 2.06-2.06.94z\"/><path d=\"M17.41 7.96l-1.37-1.37c-.4-.4-.92-.59-1.43-.59-.52 0-1.04.2-1.43.59L10.3 9.45l-7.72 7.72c-.78.78-.78 2.05 0 2.83L4 21.41c.39.39.9.59 1.41.59.51 0 1.02-.2 1.41-.59l7.78-7.78 2.81-2.81c.8-.78.8-2.07 0-2.86zM5.41 20L4 18.59l7.72-7.72 1.47 1.35L5.41 20z\"/>\n",
              "  </svg>\n",
              "      </button>\n",
              "      \n",
              "  <style>\n",
              "    .colab-df-container {\n",
              "      display:flex;\n",
              "      flex-wrap:wrap;\n",
              "      gap: 12px;\n",
              "    }\n",
              "\n",
              "    .colab-df-convert {\n",
              "      background-color: #E8F0FE;\n",
              "      border: none;\n",
              "      border-radius: 50%;\n",
              "      cursor: pointer;\n",
              "      display: none;\n",
              "      fill: #1967D2;\n",
              "      height: 32px;\n",
              "      padding: 0 0 0 0;\n",
              "      width: 32px;\n",
              "    }\n",
              "\n",
              "    .colab-df-convert:hover {\n",
              "      background-color: #E2EBFA;\n",
              "      box-shadow: 0px 1px 2px rgba(60, 64, 67, 0.3), 0px 1px 3px 1px rgba(60, 64, 67, 0.15);\n",
              "      fill: #174EA6;\n",
              "    }\n",
              "\n",
              "    [theme=dark] .colab-df-convert {\n",
              "      background-color: #3B4455;\n",
              "      fill: #D2E3FC;\n",
              "    }\n",
              "\n",
              "    [theme=dark] .colab-df-convert:hover {\n",
              "      background-color: #434B5C;\n",
              "      box-shadow: 0px 1px 3px 1px rgba(0, 0, 0, 0.15);\n",
              "      filter: drop-shadow(0px 1px 2px rgba(0, 0, 0, 0.3));\n",
              "      fill: #FFFFFF;\n",
              "    }\n",
              "  </style>\n",
              "\n",
              "      <script>\n",
              "        const buttonEl =\n",
              "          document.querySelector('#df-cb532e05-6b3e-463a-be98-05d747ad6b2f button.colab-df-convert');\n",
              "        buttonEl.style.display =\n",
              "          google.colab.kernel.accessAllowed ? 'block' : 'none';\n",
              "\n",
              "        async function convertToInteractive(key) {\n",
              "          const element = document.querySelector('#df-cb532e05-6b3e-463a-be98-05d747ad6b2f');\n",
              "          const dataTable =\n",
              "            await google.colab.kernel.invokeFunction('convertToInteractive',\n",
              "                                                     [key], {});\n",
              "          if (!dataTable) return;\n",
              "\n",
              "          const docLinkHtml = 'Like what you see? Visit the ' +\n",
              "            '<a target=\"_blank\" href=https://colab.research.google.com/notebooks/data_table.ipynb>data table notebook</a>'\n",
              "            + ' to learn more about interactive tables.';\n",
              "          element.innerHTML = '';\n",
              "          dataTable['output_type'] = 'display_data';\n",
              "          await google.colab.output.renderOutput(dataTable, element);\n",
              "          const docLink = document.createElement('div');\n",
              "          docLink.innerHTML = docLinkHtml;\n",
              "          element.appendChild(docLink);\n",
              "        }\n",
              "      </script>\n",
              "    </div>\n",
              "  </div>\n",
              "  "
            ]
          },
          "metadata": {},
          "execution_count": 36
        }
      ],
      "source": [
        "df = pd.read_csv(\"/content/dataset_rs.csv\")\n",
        "df.head()"
      ]
    },
    {
      "cell_type": "code",
      "execution_count": null,
      "metadata": {
        "colab": {
          "base_uri": "https://localhost:8080/",
          "height": 300
        },
        "id": "lxKA4AVhtUwm",
        "outputId": "e516f265-ee5c-4325-b83a-cd81e6c97b19"
      },
      "outputs": [
        {
          "output_type": "execute_result",
          "data": {
            "text/plain": [
              "         vote_count\n",
              "count    297.000000\n",
              "mean    2930.484848\n",
              "std     8123.339376\n",
              "min        1.000000\n",
              "25%      107.000000\n",
              "50%      504.000000\n",
              "75%     2245.000000\n",
              "max    81922.000000"
            ],
            "text/html": [
              "\n",
              "  <div id=\"df-3483a0aa-0381-4377-b8b2-440f621abf63\">\n",
              "    <div class=\"colab-df-container\">\n",
              "      <div>\n",
              "<style scoped>\n",
              "    .dataframe tbody tr th:only-of-type {\n",
              "        vertical-align: middle;\n",
              "    }\n",
              "\n",
              "    .dataframe tbody tr th {\n",
              "        vertical-align: top;\n",
              "    }\n",
              "\n",
              "    .dataframe thead th {\n",
              "        text-align: right;\n",
              "    }\n",
              "</style>\n",
              "<table border=\"1\" class=\"dataframe\">\n",
              "  <thead>\n",
              "    <tr style=\"text-align: right;\">\n",
              "      <th></th>\n",
              "      <th>vote_count</th>\n",
              "    </tr>\n",
              "  </thead>\n",
              "  <tbody>\n",
              "    <tr>\n",
              "      <th>count</th>\n",
              "      <td>297.000000</td>\n",
              "    </tr>\n",
              "    <tr>\n",
              "      <th>mean</th>\n",
              "      <td>2930.484848</td>\n",
              "    </tr>\n",
              "    <tr>\n",
              "      <th>std</th>\n",
              "      <td>8123.339376</td>\n",
              "    </tr>\n",
              "    <tr>\n",
              "      <th>min</th>\n",
              "      <td>1.000000</td>\n",
              "    </tr>\n",
              "    <tr>\n",
              "      <th>25%</th>\n",
              "      <td>107.000000</td>\n",
              "    </tr>\n",
              "    <tr>\n",
              "      <th>50%</th>\n",
              "      <td>504.000000</td>\n",
              "    </tr>\n",
              "    <tr>\n",
              "      <th>75%</th>\n",
              "      <td>2245.000000</td>\n",
              "    </tr>\n",
              "    <tr>\n",
              "      <th>max</th>\n",
              "      <td>81922.000000</td>\n",
              "    </tr>\n",
              "  </tbody>\n",
              "</table>\n",
              "</div>\n",
              "      <button class=\"colab-df-convert\" onclick=\"convertToInteractive('df-3483a0aa-0381-4377-b8b2-440f621abf63')\"\n",
              "              title=\"Convert this dataframe to an interactive table.\"\n",
              "              style=\"display:none;\">\n",
              "        \n",
              "  <svg xmlns=\"http://www.w3.org/2000/svg\" height=\"24px\"viewBox=\"0 0 24 24\"\n",
              "       width=\"24px\">\n",
              "    <path d=\"M0 0h24v24H0V0z\" fill=\"none\"/>\n",
              "    <path d=\"M18.56 5.44l.94 2.06.94-2.06 2.06-.94-2.06-.94-.94-2.06-.94 2.06-2.06.94zm-11 1L8.5 8.5l.94-2.06 2.06-.94-2.06-.94L8.5 2.5l-.94 2.06-2.06.94zm10 10l.94 2.06.94-2.06 2.06-.94-2.06-.94-.94-2.06-.94 2.06-2.06.94z\"/><path d=\"M17.41 7.96l-1.37-1.37c-.4-.4-.92-.59-1.43-.59-.52 0-1.04.2-1.43.59L10.3 9.45l-7.72 7.72c-.78.78-.78 2.05 0 2.83L4 21.41c.39.39.9.59 1.41.59.51 0 1.02-.2 1.41-.59l7.78-7.78 2.81-2.81c.8-.78.8-2.07 0-2.86zM5.41 20L4 18.59l7.72-7.72 1.47 1.35L5.41 20z\"/>\n",
              "  </svg>\n",
              "      </button>\n",
              "      \n",
              "  <style>\n",
              "    .colab-df-container {\n",
              "      display:flex;\n",
              "      flex-wrap:wrap;\n",
              "      gap: 12px;\n",
              "    }\n",
              "\n",
              "    .colab-df-convert {\n",
              "      background-color: #E8F0FE;\n",
              "      border: none;\n",
              "      border-radius: 50%;\n",
              "      cursor: pointer;\n",
              "      display: none;\n",
              "      fill: #1967D2;\n",
              "      height: 32px;\n",
              "      padding: 0 0 0 0;\n",
              "      width: 32px;\n",
              "    }\n",
              "\n",
              "    .colab-df-convert:hover {\n",
              "      background-color: #E2EBFA;\n",
              "      box-shadow: 0px 1px 2px rgba(60, 64, 67, 0.3), 0px 1px 3px 1px rgba(60, 64, 67, 0.15);\n",
              "      fill: #174EA6;\n",
              "    }\n",
              "\n",
              "    [theme=dark] .colab-df-convert {\n",
              "      background-color: #3B4455;\n",
              "      fill: #D2E3FC;\n",
              "    }\n",
              "\n",
              "    [theme=dark] .colab-df-convert:hover {\n",
              "      background-color: #434B5C;\n",
              "      box-shadow: 0px 1px 3px 1px rgba(0, 0, 0, 0.15);\n",
              "      filter: drop-shadow(0px 1px 2px rgba(0, 0, 0, 0.3));\n",
              "      fill: #FFFFFF;\n",
              "    }\n",
              "  </style>\n",
              "\n",
              "      <script>\n",
              "        const buttonEl =\n",
              "          document.querySelector('#df-3483a0aa-0381-4377-b8b2-440f621abf63 button.colab-df-convert');\n",
              "        buttonEl.style.display =\n",
              "          google.colab.kernel.accessAllowed ? 'block' : 'none';\n",
              "\n",
              "        async function convertToInteractive(key) {\n",
              "          const element = document.querySelector('#df-3483a0aa-0381-4377-b8b2-440f621abf63');\n",
              "          const dataTable =\n",
              "            await google.colab.kernel.invokeFunction('convertToInteractive',\n",
              "                                                     [key], {});\n",
              "          if (!dataTable) return;\n",
              "\n",
              "          const docLinkHtml = 'Like what you see? Visit the ' +\n",
              "            '<a target=\"_blank\" href=https://colab.research.google.com/notebooks/data_table.ipynb>data table notebook</a>'\n",
              "            + ' to learn more about interactive tables.';\n",
              "          element.innerHTML = '';\n",
              "          dataTable['output_type'] = 'display_data';\n",
              "          await google.colab.output.renderOutput(dataTable, element);\n",
              "          const docLink = document.createElement('div');\n",
              "          docLink.innerHTML = docLinkHtml;\n",
              "          element.appendChild(docLink);\n",
              "        }\n",
              "      </script>\n",
              "    </div>\n",
              "  </div>\n",
              "  "
            ]
          },
          "metadata": {},
          "execution_count": 37
        }
      ],
      "source": [
        "df.describe()"
      ]
    },
    {
      "cell_type": "code",
      "execution_count": null,
      "metadata": {
        "colab": {
          "base_uri": "https://localhost:8080/"
        },
        "id": "a3HgmPPP3DP_",
        "outputId": "2df65d96-6498-49ac-d4e5-bb92764dad2f"
      },
      "outputs": [
        {
          "output_type": "stream",
          "name": "stdout",
          "text": [
            "<class 'pandas.core.frame.DataFrame'>\n",
            "RangeIndex: 297 entries, 0 to 296\n",
            "Data columns (total 10 columns):\n",
            " #   Column        Non-Null Count  Dtype \n",
            "---  ------        --------------  ----- \n",
            " 0   nama          297 non-null    object\n",
            " 1   vote_average  297 non-null    object\n",
            " 2   vote_count    297 non-null    int64 \n",
            " 3   type          296 non-null    object\n",
            " 4   htm_weekday   291 non-null    object\n",
            " 5   htm_weekend   291 non-null    object\n",
            " 6   latitude      297 non-null    object\n",
            " 7   Address       296 non-null    object\n",
            " 8   longitude     297 non-null    object\n",
            " 9   description   297 non-null    object\n",
            "dtypes: int64(1), object(9)\n",
            "memory usage: 23.3+ KB\n"
          ]
        }
      ],
      "source": [
        "df.info()"
      ]
    },
    {
      "cell_type": "markdown",
      "source": [
        "#**Deskripsi Wisata**\n",
        "Deskripsi wisata berguna untuk mengetahui isi informasi dari masing — masing wisata yang ada pada dataset yang kita masukkan."
      ],
      "metadata": {
        "id": "PbomJVOOb8lt"
      }
    },
    {
      "cell_type": "code",
      "execution_count": null,
      "metadata": {
        "id": "FCbF6loRtYx9"
      },
      "outputs": [],
      "source": [
        "def print_description(index):\n",
        "    example = df[df.index == index][['nama', 'Address', 'description']].values[0]\n",
        "    if len(example) > 0:\n",
        "        print(example[0])\n",
        "        print('Alamat:', example[1])\n",
        "        print('Deskripsi:', example[2])    "
      ]
    },
    {
      "cell_type": "code",
      "execution_count": null,
      "metadata": {
        "colab": {
          "base_uri": "https://localhost:8080/"
        },
        "id": "gNh745x61INK",
        "outputId": "dbd04c05-5779-4147-bb68-c6a7e021a724"
      },
      "outputs": [
        {
          "output_type": "stream",
          "name": "stdout",
          "text": [
            "Candi Prambanan\n",
            "Alamat: Jl. Raya Solo – Yogyakarta No.16, Kranggan, Bokoharjo, Kec. Prambanan, Kabupaten Sleman, Daerah Istimewa Yogyakarta\n",
            "Deskripsi: Candi Prambanan adalah kompleks candi Hindu terbesar di Indonesia yang dibangun pada abad ke-9 masehi. Candi ini dipersembahkan untuk Trimurti, tiga dewa utama Hindu yaitu Brahma sebagai dewa pencipta, Wisnu sebagai dewa pemelihara, dan Siwa sebagai dewa pemusnah. Berdasarkan prasasti Siwagrha nama asli kompleks candi ini adalah Siwagrha (bahasa Sanskerta yang bermakna 'Rumah Siwa'), dan memang di garbagriha (ruang utama) candi ini bersemayam arca Siwa Mahadewa setinggi tiga meter yang menujukkan bahwa di candi ini dewa Siwa lebih diutamakan.\n"
          ]
        }
      ],
      "source": [
        "print_description(1)"
      ]
    },
    {
      "cell_type": "markdown",
      "source": [
        "#**Text Preprocessing**\n",
        "Setelah melakukan analisa dan deskripsi wisata, proses selanjutnya melakukan text preprocessing yang bertujuan agar data yang dipakai nanti dapat diproses menjadi angka dengan TF-IDF dan cosine similarity nanti. Data yang akan dipakai hanya kolom ‘description’ saja karena agar bisa mendapatkan kesamaan pada pengaplikasiannya nanti."
      ],
      "metadata": {
        "id": "6YZ9yW4gcNo8"
      }
    },
    {
      "cell_type": "code",
      "execution_count": null,
      "metadata": {
        "id": "trcS8L5ktb4z",
        "colab": {
          "base_uri": "https://localhost:8080/",
          "height": 1000
        },
        "outputId": "56db069a-239a-4e5b-aacb-abaa82dedf88"
      },
      "outputs": [
        {
          "output_type": "execute_result",
          "data": {
            "text/plain": [
              "                                              nama vote_average  vote_count  \\\n",
              "0                                  Candi Borobudur          4,7       81922   \n",
              "1                                  Candi Prambanan          4,7       71751   \n",
              "2                                    Tebing Breksi          4,4       51431   \n",
              "3                                 Gembira Loka Zoo          4,5       36337   \n",
              "4    The Palace of Yogyakarta (Keraton Yogyakarta)          4,6       30091   \n",
              "..                                             ...          ...         ...   \n",
              "292                            Pantai Pasir Mendit            3           1   \n",
              "293                         Pemancingan Adi Winata            5           1   \n",
              "294      Taman Edukasi dan Outbound Sunan Kalijaga            5           1   \n",
              "295                   Wisata Air Wanatirta Kencana            5           1   \n",
              "296                                HeHa Ocean View          4,8          50   \n",
              "\n",
              "                                      type htm_weekday htm_weekend  \\\n",
              "0                       Budaya dan Sejarah       50000       50000   \n",
              "1                       Budaya dan Sejarah       50000       50000   \n",
              "2                                     Alam       10000       10000   \n",
              "3                                   Buatan       20000       25000   \n",
              "4                       Budaya dan Sejarah        8000        8000   \n",
              "..                                     ...         ...         ...   \n",
              "292                                 Pantai        5000        5000   \n",
              "293                        Wisata, Kuliner           0           0   \n",
              "294  Taman Bermain, Edukasi Wisata, Buatan           0           0   \n",
              "295                             Wisata Air       10000       15000   \n",
              "296                    Wisata Air, Kuliner       20000       20000   \n",
              "\n",
              "         latitude                                            Address  \\\n",
              "0    -7,607086854    Jl. Badrawati, Borobudur, Magelang, Jawa Tengah   \n",
              "1    -7,751834561  Jl. Raya Solo – Yogyakarta No.16, Kranggan, Bo...   \n",
              "2    -7,781476547  Desa Sambirejo, Kecamatan Prambanan, Kabupaten...   \n",
              "3      -7,8062344  Jl. Kebun Raya No. 2, Rejowinangun, Kotagede, ...   \n",
              "4      -7,8052845  Jl. Rotowijayan Blok No. 1, Panembahan, Kraton...   \n",
              "..            ...                                                ...   \n",
              "292    -7,8943492  Dusun Pasir Mendit, Desa Jangkaran, Kecamatan ...   \n",
              "293    -7,7045773                       Kabupaten Sleman, Yogyakarta   \n",
              "294    -7,8092066  Jl. Jomblangan, Sorowajan, Banguntapan, Kec. B...   \n",
              "295    -7,8914433  Jalan Jogja-Wonosari Km 30 tepatnya disebelah ...   \n",
              "296     -8,108578  Bolang, Girikarto, Panggang, Kab. Gunung Kidul...   \n",
              "\n",
              "       longitude                                        description  \\\n",
              "0    110,2036226  Candi yang pernah masuk sebagai salah satu dar...   \n",
              "1    110,4915318  Candi Prambanan adalah kompleks candi Hindu te...   \n",
              "2    110,5045757  Tebing Breksi merupakan tempat wisata yang ber...   \n",
              "3    110,3967977  Gambira Loka adalah kebun binatang yang berada...   \n",
              "4    110,3642031  Kompleks keraton merupakan museum yang menyimp...   \n",
              "..           ...                                                ...   \n",
              "292  110,0194606  Menyediakan pemandangan dan wisata air yang me...   \n",
              "293  110,5120115  Menyediakan tempat pemancingan dan resto yang ...   \n",
              "294  110,4132518  Wahana wisata edukasi keluarga dan komunitas d...   \n",
              "295   110,548354  Wahana bermain air di Taman Wisata Air Tirta K...   \n",
              "296   110,467934  Tempat yang asyik untuk liburan maupu menghabi...   \n",
              "\n",
              "                                    nama_clean  \n",
              "0                              candi borobudur  \n",
              "1                              candi prambanan  \n",
              "2                                tebing breksi  \n",
              "3                             gembira loka zoo  \n",
              "4         palace yogyakarta keraton yogyakarta  \n",
              "..                                         ...  \n",
              "292                        pantai pasir mendit  \n",
              "293                     pemancingan adi winata  \n",
              "294  taman edukasi dan outbound sunan kalijaga  \n",
              "295               wisata air wanatirta kencana  \n",
              "296                            heha ocean view  \n",
              "\n",
              "[297 rows x 11 columns]"
            ],
            "text/html": [
              "\n",
              "  <div id=\"df-c01672eb-9901-4eb0-935d-027e0f921c0f\">\n",
              "    <div class=\"colab-df-container\">\n",
              "      <div>\n",
              "<style scoped>\n",
              "    .dataframe tbody tr th:only-of-type {\n",
              "        vertical-align: middle;\n",
              "    }\n",
              "\n",
              "    .dataframe tbody tr th {\n",
              "        vertical-align: top;\n",
              "    }\n",
              "\n",
              "    .dataframe thead th {\n",
              "        text-align: right;\n",
              "    }\n",
              "</style>\n",
              "<table border=\"1\" class=\"dataframe\">\n",
              "  <thead>\n",
              "    <tr style=\"text-align: right;\">\n",
              "      <th></th>\n",
              "      <th>nama</th>\n",
              "      <th>vote_average</th>\n",
              "      <th>vote_count</th>\n",
              "      <th>type</th>\n",
              "      <th>htm_weekday</th>\n",
              "      <th>htm_weekend</th>\n",
              "      <th>latitude</th>\n",
              "      <th>Address</th>\n",
              "      <th>longitude</th>\n",
              "      <th>description</th>\n",
              "      <th>nama_clean</th>\n",
              "    </tr>\n",
              "  </thead>\n",
              "  <tbody>\n",
              "    <tr>\n",
              "      <th>0</th>\n",
              "      <td>Candi Borobudur</td>\n",
              "      <td>4,7</td>\n",
              "      <td>81922</td>\n",
              "      <td>Budaya dan Sejarah</td>\n",
              "      <td>50000</td>\n",
              "      <td>50000</td>\n",
              "      <td>-7,607086854</td>\n",
              "      <td>Jl. Badrawati, Borobudur, Magelang, Jawa Tengah</td>\n",
              "      <td>110,2036226</td>\n",
              "      <td>Candi yang pernah masuk sebagai salah satu dar...</td>\n",
              "      <td>candi borobudur</td>\n",
              "    </tr>\n",
              "    <tr>\n",
              "      <th>1</th>\n",
              "      <td>Candi Prambanan</td>\n",
              "      <td>4,7</td>\n",
              "      <td>71751</td>\n",
              "      <td>Budaya dan Sejarah</td>\n",
              "      <td>50000</td>\n",
              "      <td>50000</td>\n",
              "      <td>-7,751834561</td>\n",
              "      <td>Jl. Raya Solo – Yogyakarta No.16, Kranggan, Bo...</td>\n",
              "      <td>110,4915318</td>\n",
              "      <td>Candi Prambanan adalah kompleks candi Hindu te...</td>\n",
              "      <td>candi prambanan</td>\n",
              "    </tr>\n",
              "    <tr>\n",
              "      <th>2</th>\n",
              "      <td>Tebing Breksi</td>\n",
              "      <td>4,4</td>\n",
              "      <td>51431</td>\n",
              "      <td>Alam</td>\n",
              "      <td>10000</td>\n",
              "      <td>10000</td>\n",
              "      <td>-7,781476547</td>\n",
              "      <td>Desa Sambirejo, Kecamatan Prambanan, Kabupaten...</td>\n",
              "      <td>110,5045757</td>\n",
              "      <td>Tebing Breksi merupakan tempat wisata yang ber...</td>\n",
              "      <td>tebing breksi</td>\n",
              "    </tr>\n",
              "    <tr>\n",
              "      <th>3</th>\n",
              "      <td>Gembira Loka Zoo</td>\n",
              "      <td>4,5</td>\n",
              "      <td>36337</td>\n",
              "      <td>Buatan</td>\n",
              "      <td>20000</td>\n",
              "      <td>25000</td>\n",
              "      <td>-7,8062344</td>\n",
              "      <td>Jl. Kebun Raya No. 2, Rejowinangun, Kotagede, ...</td>\n",
              "      <td>110,3967977</td>\n",
              "      <td>Gambira Loka adalah kebun binatang yang berada...</td>\n",
              "      <td>gembira loka zoo</td>\n",
              "    </tr>\n",
              "    <tr>\n",
              "      <th>4</th>\n",
              "      <td>The Palace of Yogyakarta (Keraton Yogyakarta)</td>\n",
              "      <td>4,6</td>\n",
              "      <td>30091</td>\n",
              "      <td>Budaya dan Sejarah</td>\n",
              "      <td>8000</td>\n",
              "      <td>8000</td>\n",
              "      <td>-7,8052845</td>\n",
              "      <td>Jl. Rotowijayan Blok No. 1, Panembahan, Kraton...</td>\n",
              "      <td>110,3642031</td>\n",
              "      <td>Kompleks keraton merupakan museum yang menyimp...</td>\n",
              "      <td>palace yogyakarta keraton yogyakarta</td>\n",
              "    </tr>\n",
              "    <tr>\n",
              "      <th>...</th>\n",
              "      <td>...</td>\n",
              "      <td>...</td>\n",
              "      <td>...</td>\n",
              "      <td>...</td>\n",
              "      <td>...</td>\n",
              "      <td>...</td>\n",
              "      <td>...</td>\n",
              "      <td>...</td>\n",
              "      <td>...</td>\n",
              "      <td>...</td>\n",
              "      <td>...</td>\n",
              "    </tr>\n",
              "    <tr>\n",
              "      <th>292</th>\n",
              "      <td>Pantai Pasir Mendit</td>\n",
              "      <td>3</td>\n",
              "      <td>1</td>\n",
              "      <td>Pantai</td>\n",
              "      <td>5000</td>\n",
              "      <td>5000</td>\n",
              "      <td>-7,8943492</td>\n",
              "      <td>Dusun Pasir Mendit, Desa Jangkaran, Kecamatan ...</td>\n",
              "      <td>110,0194606</td>\n",
              "      <td>Menyediakan pemandangan dan wisata air yang me...</td>\n",
              "      <td>pantai pasir mendit</td>\n",
              "    </tr>\n",
              "    <tr>\n",
              "      <th>293</th>\n",
              "      <td>Pemancingan Adi Winata</td>\n",
              "      <td>5</td>\n",
              "      <td>1</td>\n",
              "      <td>Wisata, Kuliner</td>\n",
              "      <td>0</td>\n",
              "      <td>0</td>\n",
              "      <td>-7,7045773</td>\n",
              "      <td>Kabupaten Sleman, Yogyakarta</td>\n",
              "      <td>110,5120115</td>\n",
              "      <td>Menyediakan tempat pemancingan dan resto yang ...</td>\n",
              "      <td>pemancingan adi winata</td>\n",
              "    </tr>\n",
              "    <tr>\n",
              "      <th>294</th>\n",
              "      <td>Taman Edukasi dan Outbound Sunan Kalijaga</td>\n",
              "      <td>5</td>\n",
              "      <td>1</td>\n",
              "      <td>Taman Bermain, Edukasi Wisata, Buatan</td>\n",
              "      <td>0</td>\n",
              "      <td>0</td>\n",
              "      <td>-7,8092066</td>\n",
              "      <td>Jl. Jomblangan, Sorowajan, Banguntapan, Kec. B...</td>\n",
              "      <td>110,4132518</td>\n",
              "      <td>Wahana wisata edukasi keluarga dan komunitas d...</td>\n",
              "      <td>taman edukasi dan outbound sunan kalijaga</td>\n",
              "    </tr>\n",
              "    <tr>\n",
              "      <th>295</th>\n",
              "      <td>Wisata Air Wanatirta Kencana</td>\n",
              "      <td>5</td>\n",
              "      <td>1</td>\n",
              "      <td>Wisata Air</td>\n",
              "      <td>10000</td>\n",
              "      <td>15000</td>\n",
              "      <td>-7,8914433</td>\n",
              "      <td>Jalan Jogja-Wonosari Km 30 tepatnya disebelah ...</td>\n",
              "      <td>110,548354</td>\n",
              "      <td>Wahana bermain air di Taman Wisata Air Tirta K...</td>\n",
              "      <td>wisata air wanatirta kencana</td>\n",
              "    </tr>\n",
              "    <tr>\n",
              "      <th>296</th>\n",
              "      <td>HeHa Ocean View</td>\n",
              "      <td>4,8</td>\n",
              "      <td>50</td>\n",
              "      <td>Wisata Air, Kuliner</td>\n",
              "      <td>20000</td>\n",
              "      <td>20000</td>\n",
              "      <td>-8,108578</td>\n",
              "      <td>Bolang, Girikarto, Panggang, Kab. Gunung Kidul...</td>\n",
              "      <td>110,467934</td>\n",
              "      <td>Tempat yang asyik untuk liburan maupu menghabi...</td>\n",
              "      <td>heha ocean view</td>\n",
              "    </tr>\n",
              "  </tbody>\n",
              "</table>\n",
              "<p>297 rows × 11 columns</p>\n",
              "</div>\n",
              "      <button class=\"colab-df-convert\" onclick=\"convertToInteractive('df-c01672eb-9901-4eb0-935d-027e0f921c0f')\"\n",
              "              title=\"Convert this dataframe to an interactive table.\"\n",
              "              style=\"display:none;\">\n",
              "        \n",
              "  <svg xmlns=\"http://www.w3.org/2000/svg\" height=\"24px\"viewBox=\"0 0 24 24\"\n",
              "       width=\"24px\">\n",
              "    <path d=\"M0 0h24v24H0V0z\" fill=\"none\"/>\n",
              "    <path d=\"M18.56 5.44l.94 2.06.94-2.06 2.06-.94-2.06-.94-.94-2.06-.94 2.06-2.06.94zm-11 1L8.5 8.5l.94-2.06 2.06-.94-2.06-.94L8.5 2.5l-.94 2.06-2.06.94zm10 10l.94 2.06.94-2.06 2.06-.94-2.06-.94-.94-2.06-.94 2.06-2.06.94z\"/><path d=\"M17.41 7.96l-1.37-1.37c-.4-.4-.92-.59-1.43-.59-.52 0-1.04.2-1.43.59L10.3 9.45l-7.72 7.72c-.78.78-.78 2.05 0 2.83L4 21.41c.39.39.9.59 1.41.59.51 0 1.02-.2 1.41-.59l7.78-7.78 2.81-2.81c.8-.78.8-2.07 0-2.86zM5.41 20L4 18.59l7.72-7.72 1.47 1.35L5.41 20z\"/>\n",
              "  </svg>\n",
              "      </button>\n",
              "      \n",
              "  <style>\n",
              "    .colab-df-container {\n",
              "      display:flex;\n",
              "      flex-wrap:wrap;\n",
              "      gap: 12px;\n",
              "    }\n",
              "\n",
              "    .colab-df-convert {\n",
              "      background-color: #E8F0FE;\n",
              "      border: none;\n",
              "      border-radius: 50%;\n",
              "      cursor: pointer;\n",
              "      display: none;\n",
              "      fill: #1967D2;\n",
              "      height: 32px;\n",
              "      padding: 0 0 0 0;\n",
              "      width: 32px;\n",
              "    }\n",
              "\n",
              "    .colab-df-convert:hover {\n",
              "      background-color: #E2EBFA;\n",
              "      box-shadow: 0px 1px 2px rgba(60, 64, 67, 0.3), 0px 1px 3px 1px rgba(60, 64, 67, 0.15);\n",
              "      fill: #174EA6;\n",
              "    }\n",
              "\n",
              "    [theme=dark] .colab-df-convert {\n",
              "      background-color: #3B4455;\n",
              "      fill: #D2E3FC;\n",
              "    }\n",
              "\n",
              "    [theme=dark] .colab-df-convert:hover {\n",
              "      background-color: #434B5C;\n",
              "      box-shadow: 0px 1px 3px 1px rgba(0, 0, 0, 0.15);\n",
              "      filter: drop-shadow(0px 1px 2px rgba(0, 0, 0, 0.3));\n",
              "      fill: #FFFFFF;\n",
              "    }\n",
              "  </style>\n",
              "\n",
              "      <script>\n",
              "        const buttonEl =\n",
              "          document.querySelector('#df-c01672eb-9901-4eb0-935d-027e0f921c0f button.colab-df-convert');\n",
              "        buttonEl.style.display =\n",
              "          google.colab.kernel.accessAllowed ? 'block' : 'none';\n",
              "\n",
              "        async function convertToInteractive(key) {\n",
              "          const element = document.querySelector('#df-c01672eb-9901-4eb0-935d-027e0f921c0f');\n",
              "          const dataTable =\n",
              "            await google.colab.kernel.invokeFunction('convertToInteractive',\n",
              "                                                     [key], {});\n",
              "          if (!dataTable) return;\n",
              "\n",
              "          const docLinkHtml = 'Like what you see? Visit the ' +\n",
              "            '<a target=\"_blank\" href=https://colab.research.google.com/notebooks/data_table.ipynb>data table notebook</a>'\n",
              "            + ' to learn more about interactive tables.';\n",
              "          element.innerHTML = '';\n",
              "          dataTable['output_type'] = 'display_data';\n",
              "          await google.colab.output.renderOutput(dataTable, element);\n",
              "          const docLink = document.createElement('div');\n",
              "          docLink.innerHTML = docLinkHtml;\n",
              "          element.appendChild(docLink);\n",
              "        }\n",
              "      </script>\n",
              "    </div>\n",
              "  </div>\n",
              "  "
            ]
          },
          "metadata": {},
          "execution_count": 41
        }
      ],
      "source": [
        "clean_spcl = re.compile('[/(){}\\[\\]\\|@,;]')\n",
        "clean_symbol = re.compile('[^0-9a-z #+_]')\n",
        "stopwords = set(stopwords.words('english'))\n",
        "\n",
        "def clean_text(text):\n",
        "    \"\"\"\n",
        "        text: a string\n",
        "        \n",
        "        return: modified initial string\n",
        "    \"\"\"\n",
        "    text = text.lower() # lowercase text\n",
        "    text = clean_spcl.sub(' ', text)\n",
        "    text = clean_symbol.sub('', text)\n",
        "    text = ' '.join(word for word in text.split() if word not in stopwords) # hapus stopword dari kolom nama\n",
        "    return text\n",
        "    \n",
        "df['nama_clean'] = df['nama'].apply(clean_text)\n",
        "df"
      ]
    },
    {
      "cell_type": "code",
      "execution_count": null,
      "metadata": {
        "id": "nD_iqTZoAQ7Q"
      },
      "outputs": [],
      "source": [
        "# Deskripsi kedua (Setelah preprocessing)\n",
        "def print_description_clean(index):\n",
        "    example = df[df.index == index][['nama_clean', 'Address', 'description']].values[0]\n",
        "    if len(example) > 0:\n",
        "        print(example[0])\n",
        "        print('Alamat:', example[1])\n",
        "        print('Deskripso:', example[2])"
      ]
    },
    {
      "cell_type": "code",
      "execution_count": null,
      "metadata": {
        "colab": {
          "base_uri": "https://localhost:8080/"
        },
        "id": "QloRQywfAUGl",
        "outputId": "8b63bc08-45af-4bc5-fd0e-8fd799ffe360"
      },
      "outputs": [
        {
          "output_type": "stream",
          "name": "stdout",
          "text": [
            "candi borobudur\n",
            "Alamat: Jl. Badrawati, Borobudur, Magelang, Jawa Tengah\n",
            "Deskripso: Candi yang pernah masuk sebagai salah satu dari Tujuh Keajaiban Dunia ini dihiasi oleh banyak relief di dinding candi. Relief yang ada di Candi Borobudur mencapai 2.672 dan panjangnya bisa mencapai 6 kilometer\n"
          ]
        }
      ],
      "source": [
        "print_description_clean(0)"
      ]
    },
    {
      "cell_type": "markdown",
      "source": [
        "#**TF-IDF dan Cosine Similarity**\n",
        "Setelah data di preprocessing, gunakan library TF-IDF dan cosine similarity agar bisa diubah menjadi angka berupa matriks. (Untuk mengetahuinya lebih lanjut"
      ],
      "metadata": {
        "id": "q3W37g5UckCc"
      }
    },
    {
      "cell_type": "code",
      "execution_count": null,
      "metadata": {
        "id": "JCumg23SAZ62"
      },
      "outputs": [],
      "source": [
        "df.set_index('nama_clean', inplace=True)\n",
        "tf = TfidfVectorizer(analyzer='word', ngram_range=(1, 3), min_df=0, stop_words='english')\n",
        "tfidf_matrix = tf.fit_transform(df['nama'])"
      ]
    },
    {
      "cell_type": "code",
      "source": [
        "similarity = cosine_similarity(tfidf_matrix, tfidf_matrix)\n",
        "similarity"
      ],
      "metadata": {
        "id": "5W3l8jmtcc71",
        "colab": {
          "base_uri": "https://localhost:8080/"
        },
        "outputId": "4c2478c1-5725-4cfa-fddb-a829dbcf8226"
      },
      "execution_count": null,
      "outputs": [
        {
          "output_type": "execute_result",
          "data": {
            "text/plain": [
              "array([[1.        , 0.14260218, 0.        , ..., 0.        , 0.        ,\n",
              "        0.        ],\n",
              "       [0.14260218, 1.        , 0.        , ..., 0.        , 0.        ,\n",
              "        0.        ],\n",
              "       [0.        , 0.        , 1.        , ..., 0.        , 0.        ,\n",
              "        0.        ],\n",
              "       ...,\n",
              "       [0.        , 0.        , 0.        , ..., 1.        , 0.        ,\n",
              "        0.        ],\n",
              "       [0.        , 0.        , 0.        , ..., 0.        , 1.        ,\n",
              "        0.        ],\n",
              "       [0.        , 0.        , 0.        , ..., 0.        , 0.        ,\n",
              "        1.        ]])"
            ]
          },
          "metadata": {},
          "execution_count": 45
        }
      ]
    },
    {
      "cell_type": "code",
      "execution_count": null,
      "metadata": {
        "id": "Iw2BFBEfAdP2",
        "colab": {
          "base_uri": "https://localhost:8080/"
        },
        "outputId": "7f121fa0-2117-4a51-a170-0d38813500c6"
      },
      "outputs": [
        {
          "output_type": "execute_result",
          "data": {
            "text/plain": [
              "0                           candi borobudur\n",
              "1                           candi prambanan\n",
              "2                             tebing breksi\n",
              "3                          gembira loka zoo\n",
              "4      palace yogyakarta keraton yogyakarta\n",
              "5                                taman sari\n",
              "6               hutan pinus mangunan dlingo\n",
              "7                                 jogja bay\n",
              "8    world landmarks merapi park yogyakarta\n",
              "9                         lost world castle\n",
              "Name: nama_clean, dtype: object"
            ]
          },
          "metadata": {},
          "execution_count": 46
        }
      ],
      "source": [
        "# Set index utama di kolom 'nama'\n",
        "indices = pd.Series(df.index)\n",
        "indices[:10]"
      ]
    },
    {
      "cell_type": "markdown",
      "source": [
        "#**Modelling**\n",
        "Pada tahap permodelan, saya membuat fungsi untuk rekomendasi wisata yang sama sesuai hasil dari TF-IDF dan cosine similarity yang dibuat. Hasil yang akan ditampilkan berupa 10 urutan terdekat dengan nama wisata yang kita definisikan."
      ],
      "metadata": {
        "id": "r5p0s9OPcxE0"
      }
    },
    {
      "cell_type": "code",
      "execution_count": null,
      "metadata": {
        "id": "wrOBKd28Afcw"
      },
      "outputs": [],
      "source": [
        "def recommendations(nama, similarity = similarity):\n",
        "    recommended_wisata = []\n",
        "    # Mengambil nama wisata berdasarkan variabel indicies\n",
        "    idx = indices[indices == nama].index[0]\n",
        "    # Membuat series berdasarkan skor kesamaan\n",
        "    score_series = pd.Series(similarity[idx]).sort_values(ascending = False)\n",
        "    # mengambil index dan dibuat 10 baris rekomendasi terbaik\n",
        "    top_10_indexes = list(score_series.iloc[1:11].index)\n",
        "    for i in top_10_indexes:\n",
        "        recommended_wisata.append(list(df.index)[i])\n",
        "        \n",
        "    return recommended_wisata"
      ]
    },
    {
      "cell_type": "code",
      "execution_count": null,
      "metadata": {
        "id": "6pXJJrsjAl99",
        "colab": {
          "base_uri": "https://localhost:8080/"
        },
        "outputId": "076d5569-637e-4dc5-8f4b-2429d190d8f2"
      },
      "outputs": [
        {
          "output_type": "execute_result",
          "data": {
            "text/plain": [
              "['candi sari',\n",
              " 'pakem sari water park',\n",
              " 'taman lampion taman pelangi',\n",
              " 'taman glugut',\n",
              " 'taman nggirli',\n",
              " 'taman wisata kaliurang',\n",
              " 'taman pelangi jogja',\n",
              " 'taman pintar yogyakarta',\n",
              " 'taman air menari',\n",
              " 'waterbyur taman air']"
            ]
          },
          "metadata": {},
          "execution_count": 48
        }
      ],
      "source": [
        "recommendations('taman sari')"
      ]
    }
  ],
  "metadata": {
    "colab": {
      "provenance": []
    },
    "kernelspec": {
      "display_name": "Python 3",
      "name": "python3"
    },
    "language_info": {
      "name": "python"
    }
  },
  "nbformat": 4,
  "nbformat_minor": 0
}